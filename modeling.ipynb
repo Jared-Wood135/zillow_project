{
 "cells": [
  {
   "cell_type": "markdown",
   "id": "4659a8dc",
   "metadata": {},
   "source": [
    "<a id=\"TableOfContents\"></a>\n",
    "# TABLE OF CONTENTS:\n",
    "<li><a href='#imports'>Imports</a></li>\n",
    "<li><a href='#setup'>Setup</a></li>\n",
    "<li><a href='#lr'>Linear Regression</a></li>\n",
    "<li><a href=\"#ll\">LassoLars</a></li>\n",
    "<li><a href='#tdr'>Tweedie Regressor</a></li>\n",
    "<li><a href='#pnr'>Polynomial Regression</a></li>\n",
    "<li><a href='#top'>Top Model</a></li>\n",
    "<li><a href='#extra'>Extra</a></li>"
   ]
  },
  {
   "cell_type": "markdown",
   "id": "847675ec",
   "metadata": {},
   "source": [
    "<a id='imports'></a>\n",
    "# Imports:\n",
    "<li><a href='#TableOfContents'>Table of Contents</a></li>"
   ]
  },
  {
   "cell_type": "code",
   "execution_count": 1,
   "id": "c91b6a08",
   "metadata": {},
   "outputs": [],
   "source": [
    "# Vectorization and tables\n",
    "import numpy as np\n",
    "import pandas as pd\n",
    "\n",
    "# Visualization\n",
    "import matplotlib.pyplot as plt\n",
    "import seaborn as sns\n",
    "\n",
    "# Datasets\n",
    "from pydataset import data\n",
    "\n",
    "# sklearn\n",
    "from sklearn.linear_model import LinearRegression\n",
    "from sklearn.linear_model import LassoLars\n",
    "from sklearn.linear_model import TweedieRegressor\n",
    "from sklearn.preprocessing import PolynomialFeatures\n",
    "from sklearn.preprocessing import RobustScaler\n",
    "from sklearn.metrics import explained_variance_score\n",
    "from sklearn.metrics import mean_squared_error\n",
    "\n",
    "# .py files\n",
    "import wrangle"
   ]
  },
  {
   "cell_type": "markdown",
   "id": "b1b614ac",
   "metadata": {},
   "source": [
    "<a id='setup'></a>\n",
    "# Setup:\n",
    "<li><a href='#TableOfContents'>Table of Contents</a></li>"
   ]
  },
  {
   "cell_type": "code",
   "execution_count": 2,
   "id": "145fee82",
   "metadata": {},
   "outputs": [
    {
     "name": "stdout",
     "output_type": "stream",
     "text": [
      "train.shape:(29366, 10)\n",
      "validate.shape:(12586, 10)\n",
      "test.shape:(10489, 10)\n"
     ]
    }
   ],
   "source": [
    "# Acquire, prep, and split zillow dataframe\n",
    "train, validate, test = wrangle.wrangle_zillow_mvp()"
   ]
  },
  {
   "cell_type": "code",
   "execution_count": 3,
   "id": "69324161",
   "metadata": {},
   "outputs": [
    {
     "data": {
      "text/html": [
       "<div>\n",
       "<style scoped>\n",
       "    .dataframe tbody tr th:only-of-type {\n",
       "        vertical-align: middle;\n",
       "    }\n",
       "\n",
       "    .dataframe tbody tr th {\n",
       "        vertical-align: top;\n",
       "    }\n",
       "\n",
       "    .dataframe thead th {\n",
       "        text-align: right;\n",
       "    }\n",
       "</style>\n",
       "<table border=\"1\" class=\"dataframe\">\n",
       "  <thead>\n",
       "    <tr style=\"text-align: right;\">\n",
       "      <th></th>\n",
       "      <th>bedrooms</th>\n",
       "      <th>home_sqft</th>\n",
       "      <th>full_bathrooms</th>\n",
       "      <th>lotsize_sqft</th>\n",
       "      <th>home_age</th>\n",
       "      <th>value</th>\n",
       "      <th>home_lot_ratio</th>\n",
       "      <th>county_Los Angeles</th>\n",
       "      <th>county_Orange</th>\n",
       "      <th>county_Ventura</th>\n",
       "    </tr>\n",
       "  </thead>\n",
       "  <tbody>\n",
       "    <tr>\n",
       "      <th>19172</th>\n",
       "      <td>-1.0</td>\n",
       "      <td>-0.229572</td>\n",
       "      <td>-1.0</td>\n",
       "      <td>-0.210041</td>\n",
       "      <td>1.068966</td>\n",
       "      <td>636366.0</td>\n",
       "      <td>0.0</td>\n",
       "      <td>1</td>\n",
       "      <td>0</td>\n",
       "      <td>0</td>\n",
       "    </tr>\n",
       "  </tbody>\n",
       "</table>\n",
       "</div>"
      ],
      "text/plain": [
       "       bedrooms  home_sqft  full_bathrooms  lotsize_sqft  home_age     value  \\\n",
       "19172      -1.0  -0.229572            -1.0     -0.210041  1.068966  636366.0   \n",
       "\n",
       "       home_lot_ratio  county_Los Angeles  county_Orange  county_Ventura  \n",
       "19172             0.0                   1              0               0  "
      ]
     },
     "execution_count": 3,
     "metadata": {},
     "output_type": "execute_result"
    }
   ],
   "source": [
    "# Identify columns to scale then scale dataframes\n",
    "scale_cols = [\n",
    "    'bedrooms',\n",
    "    'home_sqft',\n",
    "    'full_bathrooms',\n",
    "    'lotsize_sqft',\n",
    "    'home_age',\n",
    "    'home_lot_ratio'\n",
    "]\n",
    "\n",
    "# Scale columns using robustscaler for dataframes\n",
    "train_scale, validate_scale, test_scale = wrangle.scale(train, validate, test, scale_cols, RobustScaler())\n",
    "train_scale.sample()"
   ]
  },
  {
   "cell_type": "code",
   "execution_count": 4,
   "id": "4b93a979",
   "metadata": {},
   "outputs": [],
   "source": [
    "# Identify features for machine learning\n",
    "features = [\n",
    "    'bedrooms',\n",
    "    'home_sqft',\n",
    "    'full_bathrooms',\n",
    "    'lotsize_sqft',\n",
    "    'home_age',\n",
    "    'home_lot_ratio'\n",
    "]"
   ]
  },
  {
   "cell_type": "code",
   "execution_count": 5,
   "id": "4c91260a",
   "metadata": {},
   "outputs": [
    {
     "data": {
      "text/plain": [
       "['bedrooms',\n",
       " 'home_sqft',\n",
       " 'full_bathrooms',\n",
       " 'lotsize_sqft',\n",
       " 'home_age',\n",
       " 'home_lot_ratio']"
      ]
     },
     "execution_count": 5,
     "metadata": {},
     "output_type": "execute_result"
    }
   ],
   "source": [
    "features"
   ]
  },
  {
   "cell_type": "code",
   "execution_count": 6,
   "id": "9bfa95ba",
   "metadata": {},
   "outputs": [],
   "source": [
    "# Define x/y cols for train, validate, test\n",
    "x_train = train_scale[features]\n",
    "y_train = pd.DataFrame(train.value)\n",
    "x_validate = validate_scale[features]\n",
    "y_validate = pd.DataFrame(validate.value)\n",
    "x_test = test_scale[features]\n",
    "y_test = pd.DataFrame(test.value)"
   ]
  },
  {
   "cell_type": "code",
   "execution_count": 7,
   "id": "216e9f49",
   "metadata": {},
   "outputs": [
    {
     "name": "stdout",
     "output_type": "stream",
     "text": [
      "\u001b[35m ========== MEAN RMSE SCORES ==========\u001b[0m\n",
      "\u001b[32mTrain:\u001b[0m 729581.0514330696\n",
      "\u001b[32mValidate:\u001b[0m 849736.225480552\n",
      "\u001b[32mDifference:\u001b[0m 120155.17404748232\n",
      "\n",
      "\n",
      "\u001b[35m ========== MEDIAN RMSE SCORES ==========\u001b[0m\n",
      "\u001b[32mTrain:\u001b[0m 745719.9188036239\n",
      "\u001b[32mValidate:\u001b[0m 865036.7172253283\n",
      "\u001b[32mDifference:\u001b[0m 119316.79842170444\n"
     ]
    }
   ],
   "source": [
    "# Establish mean or median baseline\n",
    "mean_baseline = round(train.value.mean(), 2)\n",
    "y_train['mean_baseline'] = mean_baseline\n",
    "y_validate['mean_baseline'] = mean_baseline\n",
    "median_baseline = train.value.median()\n",
    "y_train['median_baseline'] = median_baseline\n",
    "y_validate['median_baseline'] = median_baseline\n",
    "\n",
    "# Compare mean/median RMSE scores\n",
    "rmse_train_mean = mean_squared_error(y_train.value,\n",
    "                                    y_train.mean_baseline) ** .5\n",
    "rmse_validate_mean = mean_squared_error(y_validate.value,\n",
    "                                    y_validate.mean_baseline) ** .5\n",
    "rmse_train_median = mean_squared_error(y_train.value,\n",
    "                                    y_train.median_baseline) ** .5\n",
    "rmse_validate_median = mean_squared_error(y_validate.value,\n",
    "                                    y_validate.median_baseline) ** .5\n",
    "\n",
    "print('\\033[35m ========== MEAN RMSE SCORES ==========\\033[0m')\n",
    "print(f'\\033[32mTrain:\\033[0m {rmse_train_mean}\\n\\033[32mValidate:\\033[0m {rmse_validate_mean}\\n\\033[32mDifference:\\033[0m {rmse_validate_mean - rmse_train_mean}')\n",
    "print('\\n\\n\\033[35m ========== MEDIAN RMSE SCORES ==========\\033[0m')\n",
    "print(f'\\033[32mTrain:\\033[0m {rmse_train_median}\\n\\033[32mValidate:\\033[0m {rmse_validate_median}\\n\\033[32mDifference:\\033[0m {rmse_validate_median - rmse_train_median}')"
   ]
  },
  {
   "cell_type": "markdown",
   "id": "3b29add6",
   "metadata": {},
   "source": [
    "##### Mean is better"
   ]
  },
  {
   "cell_type": "code",
   "execution_count": 8,
   "id": "d0a7cb0e",
   "metadata": {},
   "outputs": [],
   "source": [
    "# Create a dictionary of model scores\n",
    "models_dict = {\n",
    "    'model_name' : ['baseline_mean'],\n",
    "    'train_rmse' : [round(rmse_train_mean, 2)],\n",
    "    'validate_rmse' : [round(rmse_validate_mean, 2)],\n",
    "    'difference' : [round(rmse_validate_mean - rmse_train_mean, 2)],\n",
    "    'validate_r2' : [round(explained_variance_score(y_validate.value,\n",
    "                                             y_validate.mean_baseline), 2)]\n",
    "}"
   ]
  },
  {
   "cell_type": "code",
   "execution_count": 9,
   "id": "4a102c1b",
   "metadata": {},
   "outputs": [
    {
     "data": {
      "text/html": [
       "<div>\n",
       "<style scoped>\n",
       "    .dataframe tbody tr th:only-of-type {\n",
       "        vertical-align: middle;\n",
       "    }\n",
       "\n",
       "    .dataframe tbody tr th {\n",
       "        vertical-align: top;\n",
       "    }\n",
       "\n",
       "    .dataframe thead th {\n",
       "        text-align: right;\n",
       "    }\n",
       "</style>\n",
       "<table border=\"1\" class=\"dataframe\">\n",
       "  <thead>\n",
       "    <tr style=\"text-align: right;\">\n",
       "      <th></th>\n",
       "      <th>model_name</th>\n",
       "      <th>train_rmse</th>\n",
       "      <th>validate_rmse</th>\n",
       "      <th>difference</th>\n",
       "      <th>validate_r2</th>\n",
       "    </tr>\n",
       "  </thead>\n",
       "  <tbody>\n",
       "    <tr>\n",
       "      <th>0</th>\n",
       "      <td>baseline_mean</td>\n",
       "      <td>729581.05</td>\n",
       "      <td>849736.23</td>\n",
       "      <td>120155.17</td>\n",
       "      <td>0.0</td>\n",
       "    </tr>\n",
       "  </tbody>\n",
       "</table>\n",
       "</div>"
      ],
      "text/plain": [
       "      model_name  train_rmse  validate_rmse  difference  validate_r2\n",
       "0  baseline_mean   729581.05      849736.23   120155.17          0.0"
      ]
     },
     "execution_count": 9,
     "metadata": {},
     "output_type": "execute_result"
    }
   ],
   "source": [
    "pd.DataFrame(models_dict)"
   ]
  },
  {
   "cell_type": "markdown",
   "id": "1e05606b",
   "metadata": {},
   "source": [
    "<a id='lr'></a>\n",
    "# Linear Regression:\n",
    "<li><a href='#TableOfContents'>Table of Contents</a></li>"
   ]
  },
  {
   "cell_type": "code",
   "execution_count": 10,
   "id": "25be19bf",
   "metadata": {},
   "outputs": [
    {
     "data": {
      "text/html": [
       "<div>\n",
       "<style scoped>\n",
       "    .dataframe tbody tr th:only-of-type {\n",
       "        vertical-align: middle;\n",
       "    }\n",
       "\n",
       "    .dataframe tbody tr th {\n",
       "        vertical-align: top;\n",
       "    }\n",
       "\n",
       "    .dataframe thead th {\n",
       "        text-align: right;\n",
       "    }\n",
       "</style>\n",
       "<table border=\"1\" class=\"dataframe\">\n",
       "  <thead>\n",
       "    <tr style=\"text-align: right;\">\n",
       "      <th></th>\n",
       "      <th>model_name</th>\n",
       "      <th>train_rmse</th>\n",
       "      <th>validate_rmse</th>\n",
       "      <th>difference</th>\n",
       "      <th>validate_r2</th>\n",
       "    </tr>\n",
       "  </thead>\n",
       "  <tbody>\n",
       "    <tr>\n",
       "      <th>0</th>\n",
       "      <td>baseline_mean</td>\n",
       "      <td>729581.05</td>\n",
       "      <td>849736.23</td>\n",
       "      <td>120155.17</td>\n",
       "      <td>0.00</td>\n",
       "    </tr>\n",
       "    <tr>\n",
       "      <th>1</th>\n",
       "      <td>lr</td>\n",
       "      <td>568509.46</td>\n",
       "      <td>670163.46</td>\n",
       "      <td>101654.00</td>\n",
       "      <td>0.38</td>\n",
       "    </tr>\n",
       "  </tbody>\n",
       "</table>\n",
       "</div>"
      ],
      "text/plain": [
       "      model_name  train_rmse  validate_rmse  difference  validate_r2\n",
       "0  baseline_mean   729581.05      849736.23   120155.17         0.00\n",
       "1             lr   568509.46      670163.46   101654.00         0.38"
      ]
     },
     "execution_count": 10,
     "metadata": {},
     "output_type": "execute_result"
    }
   ],
   "source": [
    "# Create train/validate predictions with lr modeling\n",
    "lr = LinearRegression()\n",
    "lr.fit(x_train, y_train.value)\n",
    "y_train['lr_pred'] = lr.predict(x_train)\n",
    "y_validate['lr_pred'] = lr.predict(x_validate)\n",
    "\n",
    "# Get RMSE vals for train/validate\n",
    "# Append to 'models_dict'\n",
    "lr_rmse_train = mean_squared_error(y_train.value,\n",
    "                                   y_train.lr_pred) ** .5\n",
    "lr_rmse_validate = mean_squared_error(y_validate.value,\n",
    "                                      y_validate.lr_pred) ** .5\n",
    "models_dict['model_name'].append('lr')\n",
    "models_dict['train_rmse'].append(round(lr_rmse_train, 2))\n",
    "models_dict['validate_rmse'].append(round(lr_rmse_validate, 2))\n",
    "models_dict['difference'].append(round(lr_rmse_validate - lr_rmse_train, 2))\n",
    "models_dict['validate_r2'].append(round(explained_variance_score(y_validate.value,\n",
    "                                                                 y_validate.lr_pred), 2))\n",
    "\n",
    "# Check models_dict\n",
    "pd.DataFrame(models_dict)"
   ]
  },
  {
   "cell_type": "markdown",
   "id": "6ac9b1d1",
   "metadata": {},
   "source": [
    "<a id='ll'></a>\n",
    "# LassoLars:\n",
    "<li><a href='#TableOfContents'>Table of Contents</a></li>"
   ]
  },
  {
   "cell_type": "code",
   "execution_count": 11,
   "id": "8f46f3ca",
   "metadata": {},
   "outputs": [
    {
     "name": "stderr",
     "output_type": "stream",
     "text": [
      "/usr/local/anaconda3/lib/python3.9/site-packages/sklearn/linear_model/_base.py:133: FutureWarning: The default of 'normalize' will be set to False in version 1.2 and deprecated in version 1.4.\n",
      "If you wish to scale the data, use Pipeline with a StandardScaler in a preprocessing stage. To reproduce the previous behavior:\n",
      "\n",
      "from sklearn.pipeline import make_pipeline\n",
      "\n",
      "model = make_pipeline(StandardScaler(with_mean=False), LassoLars())\n",
      "\n",
      "If you wish to pass a sample_weight parameter, you need to pass it as a fit parameter to each step of the pipeline as follows:\n",
      "\n",
      "kwargs = {s[0] + '__sample_weight': sample_weight for s in model.steps}\n",
      "model.fit(X, y, **kwargs)\n",
      "\n",
      "Set parameter alpha to: original_alpha * np.sqrt(n_samples). \n",
      "  warnings.warn(\n"
     ]
    }
   ],
   "source": [
    "# Create train/validate predictions with LassoLars\n",
    "ll1 = LassoLars(alpha=1)\n",
    "ll1.fit(x_train, y_train.value)\n",
    "y_train['ll_pred_1.0'] = ll1.predict(x_train)\n",
    "y_validate['ll_pred_1.0'] = ll1.predict(x_validate)\n",
    "\n",
    "# Get RMSE values and append to 'models_dict'\n",
    "ll_rmse_train = mean_squared_error(y_train.value,\n",
    "                                   y_train['ll_pred_1.0']) ** .5\n",
    "ll_rmse_validate = mean_squared_error(y_validate.value,\n",
    "                                      y_validate['ll_pred_1.0']) ** .5\n",
    "models_dict['model_name'].append('ll_1.0')\n",
    "models_dict['train_rmse'].append(round(ll_rmse_train, 2))\n",
    "models_dict['validate_rmse'].append(round(ll_rmse_validate, 2))\n",
    "models_dict['difference'].append(round(ll_rmse_validate - ll_rmse_train, 2))\n",
    "models_dict['validate_r2'].append(round(explained_variance_score(y_validate.value,\n",
    "                                                                 y_validate['ll_pred_1.0']), 2))"
   ]
  },
  {
   "cell_type": "code",
   "execution_count": 12,
   "id": "d40fec61",
   "metadata": {},
   "outputs": [
    {
     "name": "stderr",
     "output_type": "stream",
     "text": [
      "/usr/local/anaconda3/lib/python3.9/site-packages/sklearn/linear_model/_base.py:133: FutureWarning: The default of 'normalize' will be set to False in version 1.2 and deprecated in version 1.4.\n",
      "If you wish to scale the data, use Pipeline with a StandardScaler in a preprocessing stage. To reproduce the previous behavior:\n",
      "\n",
      "from sklearn.pipeline import make_pipeline\n",
      "\n",
      "model = make_pipeline(StandardScaler(with_mean=False), LassoLars())\n",
      "\n",
      "If you wish to pass a sample_weight parameter, you need to pass it as a fit parameter to each step of the pipeline as follows:\n",
      "\n",
      "kwargs = {s[0] + '__sample_weight': sample_weight for s in model.steps}\n",
      "model.fit(X, y, **kwargs)\n",
      "\n",
      "Set parameter alpha to: original_alpha * np.sqrt(n_samples). \n",
      "  warnings.warn(\n"
     ]
    }
   ],
   "source": [
    "# Create a ll pred with alpha = 0.1\n",
    "ll01 = LassoLars(alpha=0.1)\n",
    "ll01.fit(x_train, y_train.value)\n",
    "y_train['ll_pred_0.1'] = ll01.predict(x_train)\n",
    "y_validate['ll_pred_0.1'] = ll01.predict(x_validate)\n",
    "ll_rmse_train01 = mean_squared_error(y_train.value,\n",
    "                                   y_train['ll_pred_0.1']) ** .5\n",
    "ll_rmse_validate01 = mean_squared_error(y_validate.value,\n",
    "                                      y_validate['ll_pred_0.1']) ** .5\n",
    "models_dict['model_name'].append('ll_0.1')\n",
    "models_dict['train_rmse'].append(round(ll_rmse_train01, 2))\n",
    "models_dict['validate_rmse'].append(round(ll_rmse_validate01, 2))\n",
    "models_dict['difference'].append(round(ll_rmse_validate01 - ll_rmse_train01, 2))\n",
    "models_dict['validate_r2'].append(round(explained_variance_score(y_validate.value,\n",
    "                                                                 y_validate['ll_pred_0.1']), 2))"
   ]
  },
  {
   "cell_type": "code",
   "execution_count": 13,
   "id": "3f1c0b66",
   "metadata": {},
   "outputs": [
    {
     "data": {
      "text/html": [
       "<div>\n",
       "<style scoped>\n",
       "    .dataframe tbody tr th:only-of-type {\n",
       "        vertical-align: middle;\n",
       "    }\n",
       "\n",
       "    .dataframe tbody tr th {\n",
       "        vertical-align: top;\n",
       "    }\n",
       "\n",
       "    .dataframe thead th {\n",
       "        text-align: right;\n",
       "    }\n",
       "</style>\n",
       "<table border=\"1\" class=\"dataframe\">\n",
       "  <thead>\n",
       "    <tr style=\"text-align: right;\">\n",
       "      <th></th>\n",
       "      <th>model_name</th>\n",
       "      <th>train_rmse</th>\n",
       "      <th>validate_rmse</th>\n",
       "      <th>difference</th>\n",
       "      <th>validate_r2</th>\n",
       "    </tr>\n",
       "  </thead>\n",
       "  <tbody>\n",
       "    <tr>\n",
       "      <th>0</th>\n",
       "      <td>baseline_mean</td>\n",
       "      <td>729581.05</td>\n",
       "      <td>849736.23</td>\n",
       "      <td>120155.17</td>\n",
       "      <td>0.00</td>\n",
       "    </tr>\n",
       "    <tr>\n",
       "      <th>1</th>\n",
       "      <td>lr</td>\n",
       "      <td>568509.46</td>\n",
       "      <td>670163.46</td>\n",
       "      <td>101654.00</td>\n",
       "      <td>0.38</td>\n",
       "    </tr>\n",
       "    <tr>\n",
       "      <th>2</th>\n",
       "      <td>ll_1.0</td>\n",
       "      <td>568509.74</td>\n",
       "      <td>670204.39</td>\n",
       "      <td>101694.66</td>\n",
       "      <td>0.38</td>\n",
       "    </tr>\n",
       "    <tr>\n",
       "      <th>3</th>\n",
       "      <td>ll_0.1</td>\n",
       "      <td>568509.46</td>\n",
       "      <td>670167.54</td>\n",
       "      <td>101658.07</td>\n",
       "      <td>0.38</td>\n",
       "    </tr>\n",
       "  </tbody>\n",
       "</table>\n",
       "</div>"
      ],
      "text/plain": [
       "      model_name  train_rmse  validate_rmse  difference  validate_r2\n",
       "0  baseline_mean   729581.05      849736.23   120155.17         0.00\n",
       "1             lr   568509.46      670163.46   101654.00         0.38\n",
       "2         ll_1.0   568509.74      670204.39   101694.66         0.38\n",
       "3         ll_0.1   568509.46      670167.54   101658.07         0.38"
      ]
     },
     "execution_count": 13,
     "metadata": {},
     "output_type": "execute_result"
    }
   ],
   "source": [
    "# Check 'models_dict'\n",
    "pd.DataFrame(models_dict)"
   ]
  },
  {
   "cell_type": "markdown",
   "id": "ee7f0b1e",
   "metadata": {},
   "source": [
    "<a id='tdr'></a>\n",
    "# TweedieRegressor:\n",
    "<li><a href='#TableOfContents'>Table of Contents</a></li>"
   ]
  },
  {
   "cell_type": "code",
   "execution_count": 14,
   "id": "e0b9497e",
   "metadata": {},
   "outputs": [],
   "source": [
    "# Create train/validate predictions with TweedieRegressor\n",
    "tdr0 = TweedieRegressor(power=0, alpha=1)\n",
    "tdr0.fit(x_train, y_train.value)\n",
    "y_train['tdr_pow0_a1'] = tdr0.predict(x_train)\n",
    "y_validate['tdr_pow0_a1'] = tdr0.predict(x_validate)\n",
    "\n",
    "# Get RMSE values and append to 'models_dict'\n",
    "tdr_rmse_train0_1 = mean_squared_error(y_train.value,\n",
    "                                   y_train['tdr_pow0_a1']) ** .5\n",
    "tdr_rmse_validate0_1 = mean_squared_error(y_validate.value,\n",
    "                                      y_validate['tdr_pow0_a1']) ** .5\n",
    "models_dict['model_name'].append('tdr_pow0_a1')\n",
    "models_dict['train_rmse'].append(round(tdr_rmse_train0_1, 2))\n",
    "models_dict['validate_rmse'].append(round(tdr_rmse_validate0_1, 2))\n",
    "models_dict['difference'].append(round(tdr_rmse_validate0_1 - tdr_rmse_train0_1, 2))\n",
    "models_dict['validate_r2'].append(round(explained_variance_score(y_validate.value,\n",
    "                                                                 y_validate['tdr_pow0_a1']), 2))"
   ]
  },
  {
   "cell_type": "code",
   "execution_count": 15,
   "id": "3214b333",
   "metadata": {},
   "outputs": [
    {
     "name": "stderr",
     "output_type": "stream",
     "text": [
      "/usr/local/anaconda3/lib/python3.9/site-packages/sklearn/linear_model/_glm/link.py:90: RuntimeWarning: overflow encountered in exp\n",
      "  return np.exp(lin_pred)\n",
      "/usr/local/anaconda3/lib/python3.9/site-packages/sklearn/linear_model/_glm/link.py:93: RuntimeWarning: overflow encountered in exp\n",
      "  return np.exp(lin_pred)\n",
      "/usr/local/anaconda3/lib/python3.9/site-packages/sklearn/_loss/glm_distribution.py:132: RuntimeWarning: invalid value encountered in true_divide\n",
      "  return -2 * (y - y_pred) / self.unit_variance(y_pred)\n",
      "/usr/local/anaconda3/lib/python3.9/site-packages/sklearn/_loss/glm_distribution.py:323: RuntimeWarning: invalid value encountered in add\n",
      "  dev = 2 * (xlogy(y, y / y_pred) - y + y_pred)\n",
      "/usr/local/anaconda3/lib/python3.9/site-packages/sklearn/_loss/glm_distribution.py:132: RuntimeWarning: overflow encountered in multiply\n",
      "  return -2 * (y - y_pred) / self.unit_variance(y_pred)\n",
      "/usr/local/anaconda3/lib/python3.9/site-packages/sklearn/_loss/glm_distribution.py:323: RuntimeWarning: overflow encountered in multiply\n",
      "  dev = 2 * (xlogy(y, y / y_pred) - y + y_pred)\n",
      "/usr/local/anaconda3/lib/python3.9/site-packages/sklearn/_loss/glm_distribution.py:132: RuntimeWarning: divide by zero encountered in true_divide\n",
      "  return -2 * (y - y_pred) / self.unit_variance(y_pred)\n",
      "/usr/local/anaconda3/lib/python3.9/site-packages/sklearn/_loss/glm_distribution.py:132: RuntimeWarning: overflow encountered in true_divide\n",
      "  return -2 * (y - y_pred) / self.unit_variance(y_pred)\n",
      "/usr/local/anaconda3/lib/python3.9/site-packages/sklearn/linear_model/_glm/glm.py:42: RuntimeWarning: invalid value encountered in multiply\n",
      "  temp = d1 * family.deviance_derivative(y, y_pred, weights)\n",
      "/usr/local/anaconda3/lib/python3.9/site-packages/sklearn/linear_model/_glm/glm.py:44: RuntimeWarning: invalid value encountered in matmul\n",
      "  devp = np.concatenate(([temp.sum()], temp @ X))\n",
      "/usr/local/anaconda3/lib/python3.9/site-packages/sklearn/_loss/glm_distribution.py:323: RuntimeWarning: divide by zero encountered in true_divide\n",
      "  dev = 2 * (xlogy(y, y / y_pred) - y + y_pred)\n",
      "/usr/local/anaconda3/lib/python3.9/site-packages/sklearn/_loss/glm_distribution.py:323: RuntimeWarning: overflow encountered in true_divide\n",
      "  dev = 2 * (xlogy(y, y / y_pred) - y + y_pred)\n",
      "/usr/local/anaconda3/lib/python3.9/site-packages/sklearn/linear_model/_glm/glm.py:323: ConvergenceWarning: lbfgs failed to converge (status=2):\n",
      "ABNORMAL_TERMINATION_IN_LNSRCH.\n",
      "\n",
      "Increase the number of iterations (max_iter) or scale the data as shown in:\n",
      "    https://scikit-learn.org/stable/modules/preprocessing.html\n",
      "  self.n_iter_ = _check_optimize_result(\"lbfgs\", opt_res)\n",
      "/usr/local/anaconda3/lib/python3.9/site-packages/sklearn/linear_model/_glm/link.py:90: RuntimeWarning: overflow encountered in exp\n",
      "  return np.exp(lin_pred)\n",
      "/usr/local/anaconda3/lib/python3.9/site-packages/sklearn/linear_model/_glm/link.py:93: RuntimeWarning: overflow encountered in exp\n",
      "  return np.exp(lin_pred)\n",
      "/usr/local/anaconda3/lib/python3.9/site-packages/sklearn/_loss/glm_distribution.py:247: RuntimeWarning: overflow encountered in power\n",
      "  return np.power(y_pred, self.power)\n",
      "/usr/local/anaconda3/lib/python3.9/site-packages/sklearn/_loss/glm_distribution.py:132: RuntimeWarning: invalid value encountered in true_divide\n",
      "  return -2 * (y - y_pred) / self.unit_variance(y_pred)\n",
      "/usr/local/anaconda3/lib/python3.9/site-packages/sklearn/linear_model/_glm/link.py:90: RuntimeWarning: overflow encountered in exp\n",
      "  return np.exp(lin_pred)\n",
      "/usr/local/anaconda3/lib/python3.9/site-packages/sklearn/linear_model/_glm/link.py:93: RuntimeWarning: overflow encountered in exp\n",
      "  return np.exp(lin_pred)\n",
      "/usr/local/anaconda3/lib/python3.9/site-packages/sklearn/_loss/glm_distribution.py:132: RuntimeWarning: invalid value encountered in true_divide\n",
      "  return -2 * (y - y_pred) / self.unit_variance(y_pred)\n",
      "/usr/local/anaconda3/lib/python3.9/site-packages/sklearn/_loss/glm_distribution.py:323: RuntimeWarning: invalid value encountered in add\n",
      "  dev = 2 * (xlogy(y, y / y_pred) - y + y_pred)\n",
      "/usr/local/anaconda3/lib/python3.9/site-packages/sklearn/_loss/glm_distribution.py:132: RuntimeWarning: overflow encountered in multiply\n",
      "  return -2 * (y - y_pred) / self.unit_variance(y_pred)\n",
      "/usr/local/anaconda3/lib/python3.9/site-packages/sklearn/_loss/glm_distribution.py:323: RuntimeWarning: overflow encountered in multiply\n",
      "  dev = 2 * (xlogy(y, y / y_pred) - y + y_pred)\n",
      "/usr/local/anaconda3/lib/python3.9/site-packages/sklearn/_loss/glm_distribution.py:132: RuntimeWarning: divide by zero encountered in true_divide\n",
      "  return -2 * (y - y_pred) / self.unit_variance(y_pred)\n",
      "/usr/local/anaconda3/lib/python3.9/site-packages/sklearn/_loss/glm_distribution.py:132: RuntimeWarning: overflow encountered in true_divide\n",
      "  return -2 * (y - y_pred) / self.unit_variance(y_pred)\n",
      "/usr/local/anaconda3/lib/python3.9/site-packages/sklearn/linear_model/_glm/glm.py:42: RuntimeWarning: invalid value encountered in multiply\n",
      "  temp = d1 * family.deviance_derivative(y, y_pred, weights)\n",
      "/usr/local/anaconda3/lib/python3.9/site-packages/sklearn/linear_model/_glm/glm.py:44: RuntimeWarning: invalid value encountered in matmul\n",
      "  devp = np.concatenate(([temp.sum()], temp @ X))\n",
      "/usr/local/anaconda3/lib/python3.9/site-packages/sklearn/_loss/glm_distribution.py:323: RuntimeWarning: divide by zero encountered in true_divide\n",
      "  dev = 2 * (xlogy(y, y / y_pred) - y + y_pred)\n",
      "/usr/local/anaconda3/lib/python3.9/site-packages/sklearn/_loss/glm_distribution.py:323: RuntimeWarning: overflow encountered in true_divide\n",
      "  dev = 2 * (xlogy(y, y / y_pred) - y + y_pred)\n",
      "/usr/local/anaconda3/lib/python3.9/site-packages/sklearn/linear_model/_glm/glm.py:323: ConvergenceWarning: lbfgs failed to converge (status=2):\n",
      "ABNORMAL_TERMINATION_IN_LNSRCH.\n",
      "\n",
      "Increase the number of iterations (max_iter) or scale the data as shown in:\n",
      "    https://scikit-learn.org/stable/modules/preprocessing.html\n",
      "  self.n_iter_ = _check_optimize_result(\"lbfgs\", opt_res)\n"
     ]
    }
   ],
   "source": [
    "# tdr power = 1\n",
    "tdr1 = TweedieRegressor(power=1, alpha=1)\n",
    "tdr1.fit(x_train, y_train.value)\n",
    "y_train['tdr_pow1_a1'] = tdr1.predict(x_train)\n",
    "y_validate['tdr_pow1_a1'] = tdr1.predict(x_validate)\n",
    "tdr_rmse_train1_1 = mean_squared_error(y_train.value,\n",
    "                                   y_train['tdr_pow1_a1']) ** .5\n",
    "tdr_rmse_validate1_1 = mean_squared_error(y_validate.value,\n",
    "                                      y_validate['tdr_pow1_a1']) ** .5\n",
    "models_dict['model_name'].append('tdr_pow1_a1')\n",
    "models_dict['train_rmse'].append(round(tdr_rmse_train1_1, 2))\n",
    "models_dict['validate_rmse'].append(round(tdr_rmse_validate1_1, 2))\n",
    "models_dict['difference'].append(round(tdr_rmse_validate1_1 - tdr_rmse_train1_1, 2))\n",
    "models_dict['validate_r2'].append(round(explained_variance_score(y_validate.value,\n",
    "                                                                 y_validate['tdr_pow1_a1']), 2))\n",
    "\n",
    "# tdr power = 2\n",
    "tdr2 = TweedieRegressor(power=2, alpha=1)\n",
    "tdr2.fit(x_train, y_train.value)\n",
    "y_train['tdr_pow2_a1'] = tdr2.predict(x_train)\n",
    "y_validate['tdr_pow2_a1'] = tdr2.predict(x_validate)\n",
    "tdr_rmse_train2_1 = mean_squared_error(y_train.value,\n",
    "                                   y_train['tdr_pow2_a1']) ** .5\n",
    "tdr_rmse_validate2_1 = mean_squared_error(y_validate.value,\n",
    "                                      y_validate['tdr_pow2_a1']) ** .5\n",
    "models_dict['model_name'].append('tdr_pow2_a1')\n",
    "models_dict['train_rmse'].append(round(tdr_rmse_train2_1, 2))\n",
    "models_dict['validate_rmse'].append(round(tdr_rmse_validate2_1, 2))\n",
    "models_dict['difference'].append(round(tdr_rmse_validate2_1 - tdr_rmse_train2_1, 2))\n",
    "models_dict['validate_r2'].append(round(explained_variance_score(y_validate.value,\n",
    "                                                                 y_validate['tdr_pow2_a1']), 2))\n",
    "\n",
    "# tdr power = 3\n",
    "tdr3 = TweedieRegressor(power=1, alpha=1)\n",
    "tdr3.fit(x_train, y_train.value)\n",
    "y_train['tdr_pow3_a1'] = tdr3.predict(x_train)\n",
    "y_validate['tdr_pow3_a1'] = tdr3.predict(x_validate)\n",
    "tdr_rmse_train3_1 = mean_squared_error(y_train.value,\n",
    "                                   y_train['tdr_pow3_a1']) ** .5\n",
    "tdr_rmse_validate3_1 = mean_squared_error(y_validate.value,\n",
    "                                      y_validate['tdr_pow3_a1']) ** .5\n",
    "models_dict['model_name'].append('tdr_pow3_a1')\n",
    "models_dict['train_rmse'].append(round(tdr_rmse_train3_1, 2))\n",
    "models_dict['validate_rmse'].append(round(tdr_rmse_validate3_1, 2))\n",
    "models_dict['difference'].append(round(tdr_rmse_validate3_1 - tdr_rmse_train3_1, 2))\n",
    "models_dict['validate_r2'].append(round(explained_variance_score(y_validate.value,\n",
    "                                                                 y_validate['tdr_pow3_a1']), 2))"
   ]
  },
  {
   "cell_type": "code",
   "execution_count": 16,
   "id": "0d20e7d2",
   "metadata": {},
   "outputs": [
    {
     "data": {
      "text/html": [
       "<div>\n",
       "<style scoped>\n",
       "    .dataframe tbody tr th:only-of-type {\n",
       "        vertical-align: middle;\n",
       "    }\n",
       "\n",
       "    .dataframe tbody tr th {\n",
       "        vertical-align: top;\n",
       "    }\n",
       "\n",
       "    .dataframe thead th {\n",
       "        text-align: right;\n",
       "    }\n",
       "</style>\n",
       "<table border=\"1\" class=\"dataframe\">\n",
       "  <thead>\n",
       "    <tr style=\"text-align: right;\">\n",
       "      <th></th>\n",
       "      <th>model_name</th>\n",
       "      <th>train_rmse</th>\n",
       "      <th>validate_rmse</th>\n",
       "      <th>difference</th>\n",
       "      <th>validate_r2</th>\n",
       "    </tr>\n",
       "  </thead>\n",
       "  <tbody>\n",
       "    <tr>\n",
       "      <th>0</th>\n",
       "      <td>baseline_mean</td>\n",
       "      <td>729581.05</td>\n",
       "      <td>849736.23</td>\n",
       "      <td>120155.17</td>\n",
       "      <td>0.00</td>\n",
       "    </tr>\n",
       "    <tr>\n",
       "      <th>1</th>\n",
       "      <td>lr</td>\n",
       "      <td>568509.46</td>\n",
       "      <td>670163.46</td>\n",
       "      <td>101654.00</td>\n",
       "      <td>0.38</td>\n",
       "    </tr>\n",
       "    <tr>\n",
       "      <th>2</th>\n",
       "      <td>ll_1.0</td>\n",
       "      <td>568509.74</td>\n",
       "      <td>670204.39</td>\n",
       "      <td>101694.66</td>\n",
       "      <td>0.38</td>\n",
       "    </tr>\n",
       "    <tr>\n",
       "      <th>3</th>\n",
       "      <td>ll_0.1</td>\n",
       "      <td>568509.46</td>\n",
       "      <td>670167.54</td>\n",
       "      <td>101658.07</td>\n",
       "      <td>0.38</td>\n",
       "    </tr>\n",
       "    <tr>\n",
       "      <th>4</th>\n",
       "      <td>tdr_pow0_a1</td>\n",
       "      <td>612628.43</td>\n",
       "      <td>726863.46</td>\n",
       "      <td>114235.04</td>\n",
       "      <td>0.27</td>\n",
       "    </tr>\n",
       "    <tr>\n",
       "      <th>5</th>\n",
       "      <td>tdr_pow1_a1</td>\n",
       "      <td>729581.05</td>\n",
       "      <td>849736.23</td>\n",
       "      <td>120155.17</td>\n",
       "      <td>0.00</td>\n",
       "    </tr>\n",
       "    <tr>\n",
       "      <th>6</th>\n",
       "      <td>tdr_pow2_a1</td>\n",
       "      <td>729581.05</td>\n",
       "      <td>849736.23</td>\n",
       "      <td>120155.17</td>\n",
       "      <td>0.00</td>\n",
       "    </tr>\n",
       "    <tr>\n",
       "      <th>7</th>\n",
       "      <td>tdr_pow3_a1</td>\n",
       "      <td>729581.05</td>\n",
       "      <td>849736.23</td>\n",
       "      <td>120155.17</td>\n",
       "      <td>0.00</td>\n",
       "    </tr>\n",
       "  </tbody>\n",
       "</table>\n",
       "</div>"
      ],
      "text/plain": [
       "      model_name  train_rmse  validate_rmse  difference  validate_r2\n",
       "0  baseline_mean   729581.05      849736.23   120155.17         0.00\n",
       "1             lr   568509.46      670163.46   101654.00         0.38\n",
       "2         ll_1.0   568509.74      670204.39   101694.66         0.38\n",
       "3         ll_0.1   568509.46      670167.54   101658.07         0.38\n",
       "4    tdr_pow0_a1   612628.43      726863.46   114235.04         0.27\n",
       "5    tdr_pow1_a1   729581.05      849736.23   120155.17         0.00\n",
       "6    tdr_pow2_a1   729581.05      849736.23   120155.17         0.00\n",
       "7    tdr_pow3_a1   729581.05      849736.23   120155.17         0.00"
      ]
     },
     "execution_count": 16,
     "metadata": {},
     "output_type": "execute_result"
    }
   ],
   "source": [
    "# Check 'models_dict'\n",
    "pd.DataFrame(models_dict)"
   ]
  },
  {
   "cell_type": "markdown",
   "id": "fd96b5ee",
   "metadata": {},
   "source": [
    "<a id='pnr'></a>\n",
    "# Polynomial Regression:\n",
    "<li><a href='#TableOfContents'>Table of Contents</a></li>"
   ]
  },
  {
   "cell_type": "code",
   "execution_count": 17,
   "id": "3fa4ec93",
   "metadata": {},
   "outputs": [],
   "source": [
    "# Create polynomial features\n",
    "poly = PolynomialFeatures(degree=2)\n",
    "x_train_poly = poly.fit_transform(x_train)\n",
    "x_validate_poly = poly.transform(x_validate)\n",
    "x_test_poly = poly.transform(x_test)"
   ]
  },
  {
   "cell_type": "code",
   "execution_count": 18,
   "id": "3ee63fa2",
   "metadata": {},
   "outputs": [],
   "source": [
    "# Create train/val preds using 'polynomial regression'\n",
    "pnr = LinearRegression()\n",
    "pnr.fit(x_train_poly, y_train.value)\n",
    "y_train['poly'] = pnr.predict(x_train_poly)\n",
    "y_validate['poly'] = pnr.predict(x_validate_poly)\n",
    "\n",
    "# Get RMSE values and append to 'models_dict'\n",
    "pnr_rmse_train = mean_squared_error(y_train.value,\n",
    "                                   y_train['poly']) ** .5\n",
    "pnr_rmse_validate = mean_squared_error(y_validate.value,\n",
    "                                      y_validate['poly']) ** .5\n",
    "models_dict['model_name'].append('poly')\n",
    "models_dict['train_rmse'].append(round(pnr_rmse_train, 2))\n",
    "models_dict['validate_rmse'].append(round(pnr_rmse_validate, 2))\n",
    "models_dict['difference'].append(round(pnr_rmse_validate - pnr_rmse_train, 2))\n",
    "models_dict['validate_r2'].append(round(explained_variance_score(y_validate.value,\n",
    "                                                                 y_validate['poly']), 2))"
   ]
  },
  {
   "cell_type": "code",
   "execution_count": 19,
   "id": "94b27fc1",
   "metadata": {},
   "outputs": [
    {
     "data": {
      "text/html": [
       "<div>\n",
       "<style scoped>\n",
       "    .dataframe tbody tr th:only-of-type {\n",
       "        vertical-align: middle;\n",
       "    }\n",
       "\n",
       "    .dataframe tbody tr th {\n",
       "        vertical-align: top;\n",
       "    }\n",
       "\n",
       "    .dataframe thead th {\n",
       "        text-align: right;\n",
       "    }\n",
       "</style>\n",
       "<table border=\"1\" class=\"dataframe\">\n",
       "  <thead>\n",
       "    <tr style=\"text-align: right;\">\n",
       "      <th></th>\n",
       "      <th>model_name</th>\n",
       "      <th>train_rmse</th>\n",
       "      <th>validate_rmse</th>\n",
       "      <th>difference</th>\n",
       "      <th>validate_r2</th>\n",
       "    </tr>\n",
       "  </thead>\n",
       "  <tbody>\n",
       "    <tr>\n",
       "      <th>0</th>\n",
       "      <td>baseline_mean</td>\n",
       "      <td>729581.05</td>\n",
       "      <td>849736.23</td>\n",
       "      <td>120155.17</td>\n",
       "      <td>0.00</td>\n",
       "    </tr>\n",
       "    <tr>\n",
       "      <th>1</th>\n",
       "      <td>lr</td>\n",
       "      <td>568509.46</td>\n",
       "      <td>670163.46</td>\n",
       "      <td>101654.00</td>\n",
       "      <td>0.38</td>\n",
       "    </tr>\n",
       "    <tr>\n",
       "      <th>2</th>\n",
       "      <td>ll_1.0</td>\n",
       "      <td>568509.74</td>\n",
       "      <td>670204.39</td>\n",
       "      <td>101694.66</td>\n",
       "      <td>0.38</td>\n",
       "    </tr>\n",
       "    <tr>\n",
       "      <th>3</th>\n",
       "      <td>ll_0.1</td>\n",
       "      <td>568509.46</td>\n",
       "      <td>670167.54</td>\n",
       "      <td>101658.07</td>\n",
       "      <td>0.38</td>\n",
       "    </tr>\n",
       "    <tr>\n",
       "      <th>4</th>\n",
       "      <td>tdr_pow0_a1</td>\n",
       "      <td>612628.43</td>\n",
       "      <td>726863.46</td>\n",
       "      <td>114235.04</td>\n",
       "      <td>0.27</td>\n",
       "    </tr>\n",
       "    <tr>\n",
       "      <th>5</th>\n",
       "      <td>tdr_pow1_a1</td>\n",
       "      <td>729581.05</td>\n",
       "      <td>849736.23</td>\n",
       "      <td>120155.17</td>\n",
       "      <td>0.00</td>\n",
       "    </tr>\n",
       "    <tr>\n",
       "      <th>6</th>\n",
       "      <td>tdr_pow2_a1</td>\n",
       "      <td>729581.05</td>\n",
       "      <td>849736.23</td>\n",
       "      <td>120155.17</td>\n",
       "      <td>0.00</td>\n",
       "    </tr>\n",
       "    <tr>\n",
       "      <th>7</th>\n",
       "      <td>tdr_pow3_a1</td>\n",
       "      <td>729581.05</td>\n",
       "      <td>849736.23</td>\n",
       "      <td>120155.17</td>\n",
       "      <td>0.00</td>\n",
       "    </tr>\n",
       "    <tr>\n",
       "      <th>8</th>\n",
       "      <td>poly</td>\n",
       "      <td>543414.52</td>\n",
       "      <td>572507.99</td>\n",
       "      <td>29093.47</td>\n",
       "      <td>0.55</td>\n",
       "    </tr>\n",
       "  </tbody>\n",
       "</table>\n",
       "</div>"
      ],
      "text/plain": [
       "      model_name  train_rmse  validate_rmse  difference  validate_r2\n",
       "0  baseline_mean   729581.05      849736.23   120155.17         0.00\n",
       "1             lr   568509.46      670163.46   101654.00         0.38\n",
       "2         ll_1.0   568509.74      670204.39   101694.66         0.38\n",
       "3         ll_0.1   568509.46      670167.54   101658.07         0.38\n",
       "4    tdr_pow0_a1   612628.43      726863.46   114235.04         0.27\n",
       "5    tdr_pow1_a1   729581.05      849736.23   120155.17         0.00\n",
       "6    tdr_pow2_a1   729581.05      849736.23   120155.17         0.00\n",
       "7    tdr_pow3_a1   729581.05      849736.23   120155.17         0.00\n",
       "8           poly   543414.52      572507.99    29093.47         0.55"
      ]
     },
     "execution_count": 19,
     "metadata": {},
     "output_type": "execute_result"
    }
   ],
   "source": [
    "# Check 'models_dict'\n",
    "pd.DataFrame(models_dict)"
   ]
  },
  {
   "cell_type": "markdown",
   "id": "742e0d12",
   "metadata": {},
   "source": [
    "<a id='top'></a>\n",
    "# Top Model:\n",
    "<li><a href='#TableOfContents'>Table of Contents</a></li>"
   ]
  },
  {
   "cell_type": "markdown",
   "id": "f583aedd",
   "metadata": {},
   "source": [
    "##### Use poly on test"
   ]
  },
  {
   "cell_type": "code",
   "execution_count": 20,
   "id": "4c7d1dbb",
   "metadata": {},
   "outputs": [
    {
     "data": {
      "text/plain": [
       "0.49"
      ]
     },
     "execution_count": 20,
     "metadata": {},
     "output_type": "execute_result"
    }
   ],
   "source": [
    "y_test['poly'] = pnr.predict(x_test_poly)\n",
    "test_r2 = round(explained_variance_score(y_test.value,\n",
    "                        y_test.poly), 2)\n",
    "test_r2\n"
   ]
  },
  {
   "cell_type": "code",
   "execution_count": 21,
   "id": "d1a6d7dc",
   "metadata": {},
   "outputs": [
    {
     "data": {
      "text/plain": [
       "491313.79"
      ]
     },
     "execution_count": 21,
     "metadata": {},
     "output_type": "execute_result"
    }
   ],
   "source": [
    "test_rmse = round(mean_squared_error(y_test.value,\n",
    "                   y_test.poly) ** .5, 2)\n",
    "test_rmse"
   ]
  },
  {
   "cell_type": "code",
   "execution_count": 22,
   "id": "8f84efc3",
   "metadata": {},
   "outputs": [],
   "source": [
    "y_test['baseline'] = mean_baseline"
   ]
  },
  {
   "cell_type": "code",
   "execution_count": 23,
   "id": "7a62863a",
   "metadata": {},
   "outputs": [
    {
     "data": {
      "text/plain": [
       "685403.82"
      ]
     },
     "execution_count": 23,
     "metadata": {},
     "output_type": "execute_result"
    }
   ],
   "source": [
    "base_rmse = round(mean_squared_error(y_test.value,\n",
    "                   y_test.baseline) ** .5, 2)\n",
    "base_rmse"
   ]
  },
  {
   "cell_type": "code",
   "execution_count": 24,
   "id": "e3400c95",
   "metadata": {},
   "outputs": [
    {
     "data": {
      "text/plain": [
       "0.0"
      ]
     },
     "execution_count": 24,
     "metadata": {},
     "output_type": "execute_result"
    }
   ],
   "source": [
    "base_r2 = round(explained_variance_score(y_test.value,\n",
    "                                         y_test.baseline), 2)\n",
    "base_r2"
   ]
  },
  {
   "cell_type": "code",
   "execution_count": 25,
   "id": "8c48111a",
   "metadata": {},
   "outputs": [],
   "source": [
    "test_dict = {\n",
    "    'model' : ['baseline', 'poly'],\n",
    "    'type' : ['baseline(mean)', 'Polynomial Regression'],\n",
    "    'rmse' : [base_rmse, test_rmse],\n",
    "    'r2' : [base_r2, test_r2]\n",
    "}"
   ]
  },
  {
   "cell_type": "code",
   "execution_count": 26,
   "id": "8a079770",
   "metadata": {},
   "outputs": [
    {
     "data": {
      "text/html": [
       "<div>\n",
       "<style scoped>\n",
       "    .dataframe tbody tr th:only-of-type {\n",
       "        vertical-align: middle;\n",
       "    }\n",
       "\n",
       "    .dataframe tbody tr th {\n",
       "        vertical-align: top;\n",
       "    }\n",
       "\n",
       "    .dataframe thead th {\n",
       "        text-align: right;\n",
       "    }\n",
       "</style>\n",
       "<table border=\"1\" class=\"dataframe\">\n",
       "  <thead>\n",
       "    <tr style=\"text-align: right;\">\n",
       "      <th></th>\n",
       "      <th>model</th>\n",
       "      <th>type</th>\n",
       "      <th>rmse</th>\n",
       "      <th>r2</th>\n",
       "    </tr>\n",
       "  </thead>\n",
       "  <tbody>\n",
       "    <tr>\n",
       "      <th>0</th>\n",
       "      <td>baseline</td>\n",
       "      <td>baseline(mean)</td>\n",
       "      <td>685403.82</td>\n",
       "      <td>0.00</td>\n",
       "    </tr>\n",
       "    <tr>\n",
       "      <th>1</th>\n",
       "      <td>poly</td>\n",
       "      <td>Polynomial Regression</td>\n",
       "      <td>491313.79</td>\n",
       "      <td>0.49</td>\n",
       "    </tr>\n",
       "  </tbody>\n",
       "</table>\n",
       "</div>"
      ],
      "text/plain": [
       "      model                   type       rmse    r2\n",
       "0  baseline         baseline(mean)  685403.82  0.00\n",
       "1      poly  Polynomial Regression  491313.79  0.49"
      ]
     },
     "execution_count": 26,
     "metadata": {},
     "output_type": "execute_result"
    }
   ],
   "source": [
    "pd.DataFrame(test_dict)"
   ]
  },
  {
   "cell_type": "markdown",
   "id": "bc666c70",
   "metadata": {},
   "source": [
    "<a id='extra'></a>\n",
    "# Extra:\n",
    "<li><a href='#TableOfContents'>Table of Contents</a></li>"
   ]
  },
  {
   "cell_type": "code",
   "execution_count": null,
   "id": "bc8b3af2",
   "metadata": {},
   "outputs": [],
   "source": []
  }
 ],
 "metadata": {
  "kernelspec": {
   "display_name": "Python 3 (ipykernel)",
   "language": "python",
   "name": "python3"
  },
  "language_info": {
   "codemirror_mode": {
    "name": "ipython",
    "version": 3
   },
   "file_extension": ".py",
   "mimetype": "text/x-python",
   "name": "python",
   "nbconvert_exporter": "python",
   "pygments_lexer": "ipython3",
   "version": "3.9.13"
  }
 },
 "nbformat": 4,
 "nbformat_minor": 5
}
